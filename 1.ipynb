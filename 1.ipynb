{
 "cells": [
  {
   "cell_type": "code",
   "execution_count": 8,
   "id": "346faede",
   "metadata": {},
   "outputs": [
    {
     "name": "stdout",
     "output_type": "stream",
     "text": [
      "Используем устройство: cuda\n"
     ]
    }
   ],
   "source": [
    "import torch\n",
    "import torch.nn as nn\n",
    "import sqlite3\n",
    "import pandas as pd\n",
    "import numpy as np\n",
    "from sklearn.metrics import accuracy_score, f1_score, roc_auc_score\n",
    "import matplotlib.pyplot as plt\n",
    "import importlib\n",
    "import student_transformer\n",
    "importlib.reload(student_transformer)\n",
    "from student_transformer import StudentTransformer\n",
    "from data_loader import StudentPerformanceDataset, collate_fn\n",
    "from torch.utils.data import DataLoader\n",
    "\n",
    "# Константы\n",
    "SEQ_LEN = 8\n",
    "DEVICE = torch.device(\"cuda\")\n",
    "print(f\"Используем устройство: {DEVICE}\")"
   ]
  },
  {
   "cell_type": "code",
   "execution_count": 9,
   "id": "9110cee8",
   "metadata": {},
   "outputs": [
    {
     "name": "stdout",
     "output_type": "stream",
     "text": [
      "✅ Загружено 240000 последовательностей (train)\n",
      "Количество последовательностей: 240000\n",
      "Пример батча:\n",
      "subject.shape: torch.Size([64, 8])\n",
      "numeric.shape: torch.Size([64, 8, 3])\n",
      "target.shape: torch.Size([64])\n"
     ]
    }
   ],
   "source": [
    "dataset = StudentPerformanceDataset(db_path=\"school.db\", seq_len=8)\n",
    "dataloader = DataLoader(dataset, batch_size=64, shuffle=True, collate_fn=collate_fn)\n",
    "\n",
    "print(f\"Количество последовательностей: {len(dataset)}\")\n",
    "print(f\"Пример батча:\")\n",
    "for batch in dataloader:\n",
    "    print(\"subject.shape:\", batch[\"subject\"].shape)\n",
    "    print(\"numeric.shape:\", batch[\"numeric\"].shape)\n",
    "    print(\"target.shape:\", batch[\"target\"].shape)\n",
    "    break"
   ]
  },
  {
   "cell_type": "code",
   "execution_count": 11,
   "id": "f4783f31",
   "metadata": {},
   "outputs": [
    {
     "name": "stdout",
     "output_type": "stream",
     "text": [
      "✅ Модель создана\n",
      "Число параметров: 565633\n"
     ]
    }
   ],
   "source": [
    "model = StudentTransformer(\n",
    "    num_subjects=5,\n",
    "    num_absence_reasons=6,   # ← обязательно 6!\n",
    "    num_club_types=2,\n",
    "    numeric_features=3,\n",
    "    embed_dim=64,\n",
    "    num_heads=4,\n",
    "    num_layers=2,\n",
    "    pred_type=\"binary\"\n",
    ")\n",
    "\n",
    "print(\"✅ Модель создана\")\n",
    "print(\"Число параметров:\", sum(p.numel() for p in model.parameters()))"
   ]
  },
  {
   "cell_type": "code",
   "execution_count": 12,
   "id": "8c7c5808",
   "metadata": {},
   "outputs": [
    {
     "name": "stdout",
     "output_type": "stream",
     "text": [
      "✅ Загружено 240000 последовательностей (train)\n",
      "✅ Загружено 60000 последовательностей (test)\n",
      "Эпоха Train Loss Val Loss   Acc     Prec    Rec     F1      Время \n",
      "----------------------------------------------------------------------\n",
      "1     0.3663     0.3249     0.8558  0.7560  0.4285  0.5470  30.6  s\n",
      "2     0.3307     0.3207     0.8580  0.7003  0.5258  0.6007  30.0  s\n",
      "3     0.3272     0.3210     0.8584  0.7163  0.5011  0.5897  29.6  s\n",
      "4     0.3253     0.3211     0.8583  0.7175  0.4991  0.5887  29.7  s\n",
      "5     0.3242     0.3228     0.8581  0.7038  0.5204  0.5984  29.7  s\n",
      "6     0.3229     0.3240     0.8558  0.7571  0.4269  0.5459  29.8  s\n",
      "7     0.3228     0.3202     0.8579  0.7247  0.4845  0.5807  32.1  s\n",
      "8     0.3215     0.3237     0.8588  0.7281  0.4865  0.5832  29.6  s\n",
      "9     0.3210     0.3208     0.8599  0.7260  0.4980  0.5908  29.6  s\n",
      "10    0.3206     0.3202     0.8586  0.7295  0.4825  0.5809  29.5  s\n",
      "\n",
      "✅ Модель сохранена\n"
     ]
    }
   ],
   "source": [
    "# === Ячейка: Обучение с валидацией и метриками ===\n",
    "\n",
    "import time\n",
    "from sklearn.metrics import accuracy_score, precision_score, recall_score, f1_score\n",
    "\n",
    "# Загрузка данных\n",
    "from data_loader import StudentPerformanceDataset, collate_fn\n",
    "from torch.utils.data import DataLoader\n",
    "\n",
    "train_dataset = StudentPerformanceDataset(split=\"train\")\n",
    "test_dataset = StudentPerformanceDataset(split=\"test\")  # используем как val\n",
    "\n",
    "train_loader = DataLoader(train_dataset, batch_size=64, shuffle=True, collate_fn=collate_fn)\n",
    "val_loader = DataLoader(test_dataset, batch_size=64, shuffle=False, collate_fn=collate_fn)\n",
    "\n",
    "# Настройка модели\n",
    "device = torch.device(\"cuda\")\n",
    "model.to(device)\n",
    "\n",
    "# Используем BCELoss (предполагаем, что в модели есть Sigmoid)\n",
    "criterion = nn.BCELoss()\n",
    "optimizer = torch.optim.Adam(model.parameters(), lr=1e-3)\n",
    "\n",
    "# Обучение\n",
    "model.train()\n",
    "train_losses = []\n",
    "val_losses = []\n",
    "val_metrics = []\n",
    "\n",
    "print(f\"{'Эпоха':<5} {'Train Loss':<10} {'Val Loss':<10} {'Acc':<7} {'Prec':<7} {'Rec':<7} {'F1':<7} {'Время':<6}\")\n",
    "print(\"-\" * 70)\n",
    "\n",
    "for epoch in range(10):\n",
    "    start_time = time.time()\n",
    "    \n",
    "    # --- Обучение ---\n",
    "    model.train()\n",
    "    train_loss = 0.0\n",
    "    for batch in train_loader:\n",
    "        batch = {k: v.to(device) for k, v in batch.items()}\n",
    "        optimizer.zero_grad()\n",
    "        outputs = model(batch)\n",
    "        loss = criterion(outputs, batch[\"target\"])\n",
    "        loss.backward()\n",
    "        optimizer.step()\n",
    "        train_loss += loss.item()\n",
    "    \n",
    "    avg_train_loss = train_loss / len(train_loader)\n",
    "    \n",
    "    # --- Валидация ---\n",
    "    model.eval()\n",
    "    val_loss = 0.0\n",
    "    all_preds, all_targets = [], []\n",
    "    \n",
    "    with torch.no_grad():\n",
    "        for batch in val_loader:\n",
    "            batch = {k: v.to(device) for k, v in batch.items()}\n",
    "            outputs = model(batch)\n",
    "            loss = criterion(outputs, batch[\"target\"])\n",
    "            val_loss += loss.item()\n",
    "            \n",
    "            # Собираем предсказания (уже вероятности, т.к. BCELoss + Sigmoid)\n",
    "            all_preds.extend(outputs.cpu().numpy())\n",
    "            all_targets.extend(batch[\"target\"].cpu().numpy())\n",
    "    \n",
    "    avg_val_loss = val_loss / len(val_loader)\n",
    "    \n",
    "    # Применяем порог 0.5 (можно изменить)\n",
    "    all_preds_bin = (np.array(all_preds) > 0.5).astype(int)\n",
    "    all_targets = np.array(all_targets)\n",
    "    \n",
    "    # Метрики\n",
    "    acc = accuracy_score(all_targets, all_preds_bin)\n",
    "    prec = precision_score(all_targets, all_preds_bin, zero_division=0)\n",
    "    rec = recall_score(all_targets, all_preds_bin, zero_division=0)\n",
    "    f1 = f1_score(all_targets, all_preds_bin, zero_division=0)\n",
    "    \n",
    "    # Сохраняем\n",
    "    train_losses.append(avg_train_loss)\n",
    "    val_losses.append(avg_val_loss)\n",
    "    val_metrics.append({'acc': acc, 'prec': prec, 'rec': rec, 'f1': f1})\n",
    "    \n",
    "    # Вывод\n",
    "    epoch_time = time.time() - start_time\n",
    "    print(f\"{epoch+1:<5} {avg_train_loss:<10.4f} {avg_val_loss:<10.4f} \"\n",
    "          f\"{acc:<7.4f} {prec:<7.4f} {rec:<7.4f} {f1:<7.4f} {epoch_time:<6.1f}s\")\n",
    "\n",
    "# Сохранение модели\n",
    "torch.save(model.state_dict(), \"student_transformer.pth\")\n",
    "print(\"\\n✅ Модель сохранена\")"
   ]
  },
  {
   "cell_type": "code",
   "execution_count": 13,
   "id": "fa407919",
   "metadata": {},
   "outputs": [
    {
     "name": "stdout",
     "output_type": "stream",
     "text": [
      "✅ Загружено 60000 последовательностей (test)\n",
      "Accuracy: 0.8586\n",
      "F1-score: 0.5809\n",
      "AUC-ROC:  0.8884\n"
     ]
    }
   ],
   "source": [
    "# Загрузка тестовых данных\n",
    "test_dataset = StudentPerformanceDataset(split=\"test\")\n",
    "test_loader = DataLoader(test_dataset, batch_size=64, shuffle=False, collate_fn=collate_fn)\n",
    "\n",
    "# Оценка\n",
    "model.eval()\n",
    "all_preds = []\n",
    "all_targets = []\n",
    "\n",
    "with torch.no_grad():\n",
    "    for batch in test_loader:\n",
    "        batch = {k: v.to(device) for k, v in batch.items()}\n",
    "        outputs = model(batch)\n",
    "        all_preds.extend(outputs.cpu().numpy())\n",
    "        all_targets.extend(batch[\"target\"].cpu().numpy())\n",
    "\n",
    "# Метрики\n",
    "preds_binary = (np.array(all_preds) > 0.5).astype(int)\n",
    "targets = np.array(all_targets)\n",
    "\n",
    "print(f\"Accuracy: {accuracy_score(targets, preds_binary):.4f}\")\n",
    "print(f\"F1-score: {f1_score(targets, preds_binary):.4f}\")\n",
    "print(f\"AUC-ROC:  {roc_auc_score(targets, all_preds):.4f}\")"
   ]
  },
  {
   "cell_type": "code",
   "execution_count": 16,
   "id": "139c747a",
   "metadata": {},
   "outputs": [
    {
     "data": {
      "image/png": "[encoded data removed]",
      "text/plain": [
       "<Figure size 640x480 with 1 Axes>"
      ]
     },
     "metadata": {},
     "output_type": "display_data"
    }
   ],
   "source": [
    "plt.plot(train_losses, label=\"Train Loss\", marker='o')\n",
    "plt.plot(val_losses, label=\"Validation Loss\", marker='x')\n",
    "plt.title(\"Train and Validation Loss\")\n",
    "plt.xlabel(\"Epoch\")\n",
    "plt.ylabel(\"Loss\")\n",
    "plt.legend()  # Легенда, чтобы отличать train и validation\n",
    "plt.grid(True)\n",
    "plt.show()"
   ]
  },
  {
   "cell_type": "code",
   "execution_count": 18,
   "id": "dd7c6c69",
   "metadata": {},
   "outputs": [
    {
     "name": "stdout",
     "output_type": "stream",
     "text": [
      "🎓 Прогноз для ученика по предмету 'literature':\n",
      "   Вероятность снижения успеваемости: 1.89%\n",
      "   ✅ Риск низкий.\n"
     ]
    }
   ],
   "source": [
    "# === Ячейка: Пример предсказания (инференс) ===\n",
    "\n",
    "# 1. Загрузим сохранённую модель\n",
    "model.load_state_dict(torch.load(\"student_transformer.pth\", map_location=device))\n",
    "model.eval()\n",
    "\n",
    "# 2. Подготовим пример данных (8 недель по математике)\n",
    "# Формат: [неделя 1, неделя 2, ..., неделя 8]\n",
    "example_data = {\n",
    "    \"subject\": \"literature\",\n",
    "    \"grades\": [4.5, 4.0, 4.0, 3.5, 3.0, 3.0, 2.5, 3.0],        # оценки падают\n",
    "    \"attendance\": [1, 1, 1, 0, 0, 1, 1, 1],                      # пропуски на 4-5 неделях\n",
    "    \"club_attended\": [1, 1, 0, 0, 0, 0, 0, 0],                   # перестал ходить в кружок\n",
    "    \"absence_reasons\": [None, None, None, \"illness\", \"illness\", None, None, None]\n",
    "}\n",
    "\n",
    "# 3. Преобразуем в формат модели\n",
    "SUBJECT_TO_ID = {\"math\":0, \"russian\":1, \"physics\":2, \"literature\":3, \"biology\":4}\n",
    "REASON_TO_ID = {None:0, \"illness\":1, \"competition\":2, \"family\":3, \"other\":4, \"camp\":5}\n",
    "\n",
    "subject_id = SUBJECT_TO_ID[example_data[\"subject\"]]\n",
    "absence_ids = [REASON_TO_ID.get(r, 4) for r in example_data[\"absence_reasons\"]]\n",
    "numeric = np.stack([\n",
    "    example_data[\"grades\"],\n",
    "    example_data[\"attendance\"],\n",
    "    example_data[\"club_attended\"]\n",
    "], axis=1).astype(np.float32)\n",
    "\n",
    "# Создаём батч из одного примера\n",
    "batch = {\n",
    "    \"subject\": torch.tensor([[subject_id] * 8]),      # [1, 8]\n",
    "    \"absence\": torch.tensor([absence_ids]),           # [1, 8]\n",
    "    \"club\": torch.tensor([example_data[\"club_attended\"]]),  # [1, 8]\n",
    "    \"numeric\": torch.tensor([numeric])                # [1, 8, 3]\n",
    "}\n",
    "\n",
    "# 4. Предсказание\n",
    "with torch.no_grad():\n",
    "    prob = model({k: v.to(device) for k, v in batch.items()}).item()\n",
    "\n",
    "# 5. Вывод\n",
    "print(f\"🎓 Прогноз для ученика по предмету '{example_data['subject']}':\")\n",
    "print(f\"   Вероятность снижения успеваемости: {prob:.2%}\")\n",
    "if prob > 0.5:\n",
    "    print(\"   ⚠️  Рекомендуется педагогическое вмешательство!\")\n",
    "else:\n",
    "    print(\"   ✅ Риск низкий.\")"
   ]
  }
 ],
 "metadata": {
  "kernelspec": {
   "display_name": "venv",
   "language": "python",
   "name": "python3"
  },
  "language_info": {
   "codemirror_mode": {
    "name": "ipython",
    "version": 3
   },
   "file_extension": ".py",
   "mimetype": "text/x-python",
   "name": "python",
   "nbconvert_exporter": "python",
   "pygments_lexer": "ipython3",
   "version": "3.13.0"
  }
 },
 "nbformat": 4,
 "nbformat_minor": 5
}
