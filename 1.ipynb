{
 "cells": [
  {
   "cell_type": "code",
   "execution_count": 1,
   "id": "346faede",
   "metadata": {},
   "outputs": [
    {
     "name": "stdout",
     "output_type": "stream",
     "text": [
      "Используем устройство: cpu\n"
     ]
    }
   ],
   "source": [
    "import torch\n",
    "import torch.nn as nn\n",
    "import sqlite3\n",
    "import pandas as pd\n",
    "import numpy as np\n",
    "from sklearn.metrics import accuracy_score, f1_score, roc_auc_score\n",
    "import matplotlib.pyplot as plt\n",
    "import importlib\n",
    "import student_transformer\n",
    "importlib.reload(student_transformer)\n",
    "from student_transformer import StudentTransformer\n",
    "from data_loader import StudentPerformanceDataset, collate_fn\n",
    "from torch.utils.data import DataLoader\n",
    "\n",
    "# Константы\n",
    "SEQ_LEN = 8\n",
    "DEVICE = torch.device(\"cpu\")\n",
    "print(f\"Используем устройство: {DEVICE}\")\n"
   ]
  },
  {
   "cell_type": "code",
   "execution_count": 2,
   "id": "9110cee8",
   "metadata": {},
   "outputs": [
    {
     "name": "stdout",
     "output_type": "stream",
     "text": [
      "✅ Загружено 73775 последовательностей (train)\n",
      "Количество последовательностей: 73775\n",
      "Пример батча:\n",
      "subject.shape: torch.Size([32, 8])\n",
      "numeric.shape: torch.Size([32, 8, 3])\n",
      "target.shape: torch.Size([32])\n"
     ]
    }
   ],
   "source": [
    "dataset = StudentPerformanceDataset(db_path=\"school_main.db\", seq_len=8)\n",
    "dataloader = DataLoader(dataset, batch_size=32, shuffle=True, collate_fn=collate_fn)\n",
    "\n",
    "print(f\"Количество последовательностей: {len(dataset)}\")\n",
    "print(f\"Пример батча:\")\n",
    "for batch in dataloader:\n",
    "    print(\"subject.shape:\", batch[\"subject\"].shape)\n",
    "    print(\"numeric.shape:\", batch[\"numeric\"].shape)\n",
    "    print(\"target.shape:\", batch[\"target\"].shape)\n",
    "    break"
   ]
  },
  {
   "cell_type": "code",
   "execution_count": 4,
   "id": "f4783f31",
   "metadata": {},
   "outputs": [
    {
     "name": "stdout",
     "output_type": "stream",
     "text": [
      "✅ Модель создана\n",
      "Число параметров: 565761\n"
     ]
    }
   ],
   "source": [
    "model = StudentTransformer(\n",
    "    num_subjects=5,\n",
    "    num_absence_reasons=6,   # ← обязательно 6!\n",
    "    num_club_types=4,\n",
    "    numeric_features=3,\n",
    "    embed_dim=64,\n",
    "    num_heads=4,\n",
    "    num_layers=2,\n",
    "    pred_type=\"binary\"\n",
    ")\n",
    "device = torch.device(\"cpu\")\n",
    "\n",
    "model.to(device)\n",
    "print(\"✅ Модель создана\")\n",
    "print(\"Число параметров:\", sum(p.numel() for p in model.parameters()))"
   ]
  },
  {
   "cell_type": "code",
   "execution_count": 5,
   "id": "8c7c5808",
   "metadata": {},
   "outputs": [
    {
     "name": "stdout",
     "output_type": "stream",
     "text": [
      "✅ Загружено 229820 последовательностей (train)\n",
      "✅ Загружено 54540 последовательностей (test)\n",
      "Эпоха Train Loss Val Loss   MAE     MSE     R2      Время \n",
      "----------------------------------------------------------------------\n",
      "1     0.4376     0.2907     0.3972  0.2908  0.3629  83.7  s\n",
      "2     0.3371     0.3159     0.4226  0.3160  0.3078  84.3  s\n",
      "3     0.3044     0.2642     0.3500  0.2643  0.4211  84.3  s\n",
      "4     0.2797     0.2620     0.3551  0.2621  0.4258  85.1  s\n",
      "5     0.2665     0.2642     0.3652  0.2644  0.4210  85.2  s\n",
      "6     0.2562     0.2534     0.3350  0.2535  0.4446  86.3  s\n",
      "7     0.2516     0.2521     0.3335  0.2522  0.4475  88.1  s\n",
      "8     0.2459     0.2487     0.3281  0.2488  0.4550  88.3  s\n",
      "9     0.2458     0.2479     0.3236  0.2480  0.4567  89.0  s\n",
      "10    0.2421     0.2485     0.3189  0.2486  0.4555  88.6  s\n",
      "11    0.2396     0.2494     0.3281  0.2495  0.4534  88.9  s\n",
      "12    0.2392     0.2476     0.3220  0.2477  0.4575  89.0  s\n",
      "13    0.2379     0.2468     0.3218  0.2469  0.4593  90.3  s\n",
      "14    0.2372     0.2449     0.3142  0.2450  0.4633  90.2  s\n",
      "15    0.2366     0.2455     0.3178  0.2456  0.4621  89.4  s\n",
      "\n",
      "✅ Модель сохранена\n"
     ]
    }
   ],
   "source": [
    "import time\n",
    "from sklearn.metrics import mean_absolute_error, mean_squared_error, r2_score\n",
    "\n",
    "# Загрузка данных\n",
    "from data_loader import StudentPerformanceDataset, collate_fn\n",
    "from torch.utils.data import DataLoader\n",
    "\n",
    "train_dataset = StudentPerformanceDataset(split=\"train\")\n",
    "test_dataset = StudentPerformanceDataset(split=\"test\")  # используем как val\n",
    "\n",
    "train_loader = DataLoader(train_dataset, batch_size=64, shuffle=True, collate_fn=collate_fn)\n",
    "val_loader = DataLoader(test_dataset, batch_size=64, shuffle=False, collate_fn=collate_fn)\n",
    "\n",
    "# Настройка модели\n",
    "device = torch.device(\"cpu\")  # Или \"cuda\", если у вас есть доступ к GPU\n",
    "\n",
    "model.to(device)\n",
    "\n",
    "# Используем MSELoss (для задачи регрессии)\n",
    "criterion = nn.MSELoss()  # Для регрессии\n",
    "optimizer = torch.optim.Adam(model.parameters(), lr=1e-3)\n",
    "\n",
    "# Обучение\n",
    "model.train()\n",
    "train_losses = []\n",
    "val_losses = []\n",
    "val_metrics = []\n",
    "\n",
    "print(f\"{'Эпоха':<5} {'Train Loss':<10} {'Val Loss':<10} {'MAE':<7} {'MSE':<7} {'R2':<7} {'Время':<6}\")\n",
    "print(\"-\" * 70)\n",
    "\n",
    "for epoch in range(15):\n",
    "    start_time = time.time()\n",
    "    \n",
    "    # --- Обучение ---\n",
    "    model.train()\n",
    "    train_loss = 0.0\n",
    "    for batch in train_loader:\n",
    "        batch = {k: v.to(device) for k, v in batch.items()}\n",
    "        optimizer.zero_grad()\n",
    "        outputs = model(batch)\n",
    "        loss = criterion(outputs, batch[\"target\"])\n",
    "        loss.backward()\n",
    "        optimizer.step()\n",
    "        train_loss += loss.item()\n",
    "    \n",
    "    avg_train_loss = train_loss / len(train_loader)\n",
    "    \n",
    "    # --- Валидация ---\n",
    "    model.eval()\n",
    "    val_loss = 0.0\n",
    "    all_preds, all_targets = [], []\n",
    "    \n",
    "    with torch.no_grad():\n",
    "        for batch in val_loader:\n",
    "            batch = {k: v.to(device) for k, v in batch.items()}\n",
    "            outputs = model(batch)\n",
    "            loss = criterion(outputs, batch[\"target\"])\n",
    "            val_loss += loss.item()\n",
    "            \n",
    "            # Собираем предсказания и реальные значения\n",
    "            all_preds.extend(outputs.cpu().numpy())\n",
    "            all_targets.extend(batch[\"target\"].cpu().numpy())\n",
    "    \n",
    "    avg_val_loss = val_loss / len(val_loader)\n",
    "    \n",
    "    # Метрики для регрессии\n",
    "    mae = mean_absolute_error(all_targets, all_preds)\n",
    "    mse = mean_squared_error(all_targets, all_preds)\n",
    "    r2 = r2_score(all_targets, all_preds)\n",
    "    \n",
    "    # Сохраняем метрики\n",
    "    train_losses.append(avg_train_loss)\n",
    "    val_losses.append(avg_val_loss)\n",
    "    val_metrics.append({'mae': mae, 'mse': mse, 'r2': r2})\n",
    "    \n",
    "    # Вывод информации по эпохам\n",
    "    epoch_time = time.time() - start_time\n",
    "    print(f\"{epoch+1:<5} {avg_train_loss:<10.4f} {avg_val_loss:<10.4f} \"\n",
    "          f\"{mae:<7.4f} {mse:<7.4f} {r2:<7.4f} {epoch_time:<6.1f}s\")\n",
    "\n",
    "# Сохранение модели\n",
    "torch.save(model.state_dict(), \"student_transformer.pth\")\n",
    "print(\"\\n✅ Модель сохранена\")\n"
   ]
  },
  {
   "cell_type": "code",
   "execution_count": 6,
   "id": "fa407919",
   "metadata": {},
   "outputs": [
    {
     "name": "stdout",
     "output_type": "stream",
     "text": [
      "✅ Загружено 54540 последовательностей (test)\n",
      "Mean Absolute Error (MAE): 0.3178\n",
      "Mean Squared Error (MSE): 0.2456\n",
      "R2 Score: 0.4621\n"
     ]
    }
   ],
   "source": [
    "import torch\n",
    "import numpy as np\n",
    "from sklearn.metrics import mean_absolute_error, mean_squared_error, r2_score\n",
    "\n",
    "# Загрузка тестовых данных\n",
    "test_dataset = StudentPerformanceDataset(split=\"test\")\n",
    "test_loader = DataLoader(test_dataset, batch_size=64, shuffle=False, collate_fn=collate_fn)\n",
    "\n",
    "# Оценка\n",
    "model.eval()\n",
    "all_preds = []\n",
    "all_targets = []\n",
    "\n",
    "with torch.no_grad():\n",
    "    for batch in test_loader:\n",
    "        batch = {k: v.to(device) for k, v in batch.items()}\n",
    "        outputs = model(batch)\n",
    "        all_preds.extend(outputs.cpu().numpy())\n",
    "        all_targets.extend(batch[\"target\"].cpu().numpy())\n",
    "\n",
    "# Метрики для регрессии\n",
    "mae = mean_absolute_error(all_targets, all_preds)  # Средняя абсолютная ошибка\n",
    "mse = mean_squared_error(all_targets, all_preds)  # Среднеквадратичная ошибка\n",
    "r2 = r2_score(all_targets, all_preds)  # Коэффициент детерминации\n",
    "\n",
    "# Вывод метрик\n",
    "print(f\"Mean Absolute Error (MAE): {mae:.4f}\")\n",
    "print(f\"Mean Squared Error (MSE): {mse:.4f}\")\n",
    "print(f\"R2 Score: {r2:.4f}\")"
   ]
  },
  {
   "cell_type": "code",
   "execution_count": 7,
   "id": "139c747a",
   "metadata": {},
   "outputs": [
    {
     "data": {
      "image/png": "[encoded data removed]",
      "text/plain": [
       "<Figure size 640x480 with 1 Axes>"
      ]
     },
     "metadata": {},
     "output_type": "display_data"
    }
   ],
   "source": [
    "plt.plot(train_losses, label=\"Train Loss\", marker='o')\n",
    "plt.plot(val_losses, label=\"Validation Loss\", marker='x')\n",
    "plt.title(\"Train and Validation Loss\")\n",
    "plt.xlabel(\"Epoch\")\n",
    "plt.ylabel(\"Loss\")\n",
    "plt.legend()  # Легенда, чтобы отличать train и validation\n",
    "plt.grid(True)\n",
    "plt.show()"
   ]
  },
  {
   "cell_type": "code",
   "execution_count": 11,
   "id": "dd7c6c69",
   "metadata": {},
   "outputs": [
    {
     "name": "stdout",
     "output_type": "stream",
     "text": [
      "🎓 Прогноз для ученика по предмету 'math':\n",
      "   Вероятность снижения успеваемости: 394.90%\n",
      "   ⚠️ Рекомендуется педагогическое вмешательство!\n"
     ]
    }
   ],
   "source": [
    "# === Ячейка: Пример предсказания (инференс) ===\n",
    "\n",
    "# 1. Загрузим сохранённую модель\n",
    "model.load_state_dict(torch.load(\"student_transformer.pth\", map_location=device))\n",
    "model.eval()\n",
    "\n",
    "# 2. Подготовим пример данных (8 недель по математике)\n",
    "# Формат: [неделя 1, неделя 2, ..., неделя 8]\n",
    "example_data = {\n",
    "    \"subject\": \"math\",\n",
    "    \"grades\": [4.5, 4.0, 4.0, 4.0, 4.0, 3.0, 2.5, 3.0],        # оценки падают\n",
    "    \"attendance\": [1, 1, 1, 0, 0, 1, 1, 1],                      # пропуски на 4-5 неделях\n",
    "    \"club_attended\": [1, 1, 0, 0, 0, 0, 0, 0],                   # перестал ходить в кружок\n",
    "    \"absence_reasons\": [None, None, None, \"illness\", \"illness\", None, None, None]\n",
    "}\n",
    "\n",
    "# 3. Преобразуем в формат модели\n",
    "SUBJECT_TO_ID = {\"math\":0, \"russian\":1, \"physics\":2, \"literature\":3, \"biology\":4}\n",
    "REASON_TO_ID = {None:0, \"illness\":1, \"competition\":2, \"family\":3, \"other\":4, \"camp\":5}\n",
    "\n",
    "# Преобразование данных для модели\n",
    "subject_id = SUBJECT_TO_ID[example_data[\"subject\"]]\n",
    "absence_ids = [REASON_TO_ID.get(r, 4) for r in example_data[\"absence_reasons\"]]\n",
    "numeric = np.stack([\n",
    "    example_data[\"grades\"],\n",
    "    example_data[\"attendance\"],\n",
    "    example_data[\"club_attended\"]\n",
    "], axis=1).astype(np.float32)\n",
    "\n",
    "# Создаём батч из одного примера\n",
    "batch = {\n",
    "    \"subject\": torch.tensor([[subject_id] * 8]),      # [1, 8] - данные для 8 недель\n",
    "    \"absence\": torch.tensor([absence_ids]),           # [1, 8]\n",
    "    \"club\": torch.tensor([example_data[\"club_attended\"]]),  # [1, 8]\n",
    "    \"numeric\": torch.tensor([numeric])                # [1, 8, 3] - оценки, посещаемость, кружки\n",
    "}\n",
    "\n",
    "# Предсказание\n",
    "with torch.no_grad():\n",
    "    prob = model({k: v.to(device) for k, v in batch.items()}).item()\n",
    "\n",
    "# Вывод\n",
    "print(f\"🎓 Прогноз для ученика по предмету '{example_data['subject']}':\")\n",
    "print(f\"   Вероятность снижения успеваемости: {prob:.2%}\")\n",
    "if prob > 0.5:\n",
    "    print(\"   ⚠️ Рекомендуется педагогическое вмешательство!\")\n",
    "else:\n",
    "    print(\"   ✅ Риск низкий.\")"
   ]
  }
 ],
 "metadata": {
  "kernelspec": {
   "display_name": "venv",
   "language": "python",
   "name": "python3"
  },
  "language_info": {
   "codemirror_mode": {
    "name": "ipython",
    "version": 3
   },
   "file_extension": ".py",
   "mimetype": "text/x-python",
   "name": "python",
   "nbconvert_exporter": "python",
   "pygments_lexer": "ipython3",
   "version": "3.13.0"
  }
 },
 "nbformat": 4,
 "nbformat_minor": 5
}
