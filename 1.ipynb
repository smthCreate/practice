{
 "cells": [
  {
   "cell_type": "code",
   "execution_count": 1,
   "id": "346faede",
   "metadata": {},
   "outputs": [
    {
     "name": "stdout",
     "output_type": "stream",
     "text": [
      "Используем устройство: cpu\n"
     ]
    }
   ],
   "source": [
    "import torch\n",
    "import torch.nn as nn\n",
    "import sqlite3\n",
    "import pandas as pd\n",
    "import numpy as np\n",
    "from sklearn.metrics import accuracy_score, f1_score, roc_auc_score\n",
    "import matplotlib.pyplot as plt\n",
    "import importlib\n",
    "import student_transformer\n",
    "importlib.reload(student_transformer)\n",
    "from student_transformer import StudentTransformer\n",
    "from data_loader import StudentPerformanceDataset, collate_fn\n",
    "from torch.utils.data import DataLoader\n",
    "\n",
    "# Константы\n",
    "SEQ_LEN = 8\n",
    "DEVICE = torch.device(\"cpu\")\n",
    "print(f\"Используем устройство: {DEVICE}\")\n"
   ]
  },
  {
   "cell_type": "code",
   "execution_count": 2,
   "id": "9110cee8",
   "metadata": {},
   "outputs": [
    {
     "name": "stdout",
     "output_type": "stream",
     "text": [
      "✅ Загружено 73775 последовательностей (train)\n",
      "Количество последовательностей: 73775\n",
      "Пример батча:\n",
      "subject.shape: torch.Size([32, 8])\n",
      "numeric.shape: torch.Size([32, 8, 2])\n",
      "target.shape: torch.Size([32])\n"
     ]
    }
   ],
   "source": [
    "dataset = StudentPerformanceDataset(db_path=\"school_main.db\", seq_len=8)\n",
    "dataloader = DataLoader(dataset, batch_size=32, shuffle=True, collate_fn=collate_fn)\n",
    "\n",
    "print(f\"Количество последовательностей: {len(dataset)}\")\n",
    "print(f\"Пример батча:\")\n",
    "for batch in dataloader:\n",
    "    print(\"subject.shape:\", batch[\"subject\"].shape)\n",
    "    print(\"numeric.shape:\", batch[\"numeric\"].shape)\n",
    "    print(\"target.shape:\", batch[\"target\"].shape)\n",
    "    break"
   ]
  },
  {
   "cell_type": "code",
   "execution_count": null,
   "id": "f4783f31",
   "metadata": {},
   "outputs": [
    {
     "name": "stdout",
     "output_type": "stream",
     "text": [
      "✅ Модель создана\n",
      "Число параметров: 565697\n"
     ]
    }
   ],
   "source": [
    "model = StudentTransformer(\n",
    "    num_subjects=5,\n",
    "    num_absence_reasons=6,   # ← обязательно 6!\n",
    "    num_club_types=4,\n",
    "    numeric_features=2,\n",
    "    embed_dim=64,\n",
    "    num_heads=4,\n",
    "    num_layers=2,\n",
    "    pred_type=\"binary\"\n",
    ")\n",
    "device = torch.device(\"cpu\")\n",
    "\n",
    "model.to(device)\n",
    "print(\"✅ Модель создана\")\n",
    "print(\"Число параметров:\", sum(p.numel() for p in model.parameters()))"
   ]
  },
  {
   "cell_type": "code",
   "execution_count": 8,
   "id": "8c7c5808",
   "metadata": {},
   "outputs": [
    {
     "name": "stdout",
     "output_type": "stream",
     "text": [
      "✅ Загружено 229820 последовательностей (train)\n",
      "✅ Загружено 54540 последовательностей (test)\n",
      "Эпоха Train Loss Val Loss   MAE     MSE     R2      Время \n",
      "----------------------------------------------------------------------\n",
      "1     0.2398     0.2492     0.3262  0.2493  0.4539  211.7 s\n",
      "2     0.2389     0.2449     0.3231  0.2450  0.4634  210.5 s\n",
      "3     0.2376     0.2467     0.3228  0.2468  0.4595  214.2 s\n",
      "4     0.2375     0.2451     0.3270  0.2452  0.4630  157.8 s\n",
      "5     0.2367     0.2462     0.3180  0.2463  0.4604  103.7 s\n",
      "6     0.2369     0.2436     0.3151  0.2436  0.4663  99.1  s\n",
      "7     0.2356     0.2427     0.3143  0.2428  0.4681  101.7 s\n",
      "8     0.2351     0.2450     0.3223  0.2451  0.4632  99.0  s\n",
      "9     0.2346     0.2421     0.3145  0.2422  0.4696  91.9  s\n",
      "10    0.2348     0.2459     0.3091  0.2460  0.4611  91.9  s\n",
      "11    0.2342     0.2407     0.3100  0.2408  0.4725  92.3  s\n",
      "12    0.2339     0.2415     0.3120  0.2416  0.4708  93.0  s\n",
      "13    0.2342     0.2439     0.3203  0.2440  0.4655  101.5 s\n",
      "14    0.2329     0.2412     0.3134  0.2413  0.4714  109.6 s\n",
      "15    0.2327     0.2429     0.3174  0.2430  0.4677  92.3  s\n",
      "\n",
      "✅ Модель сохранена\n"
     ]
    }
   ],
   "source": [
    "import time\n",
    "from sklearn.metrics import mean_absolute_error, mean_squared_error, r2_score\n",
    "\n",
    "# Загрузка данных\n",
    "from data_loader import StudentPerformanceDataset, collate_fn\n",
    "from torch.utils.data import DataLoader\n",
    "\n",
    "train_dataset = StudentPerformanceDataset(split=\"train\")\n",
    "test_dataset = StudentPerformanceDataset(split=\"test\")  # используем как val\n",
    "\n",
    "train_loader = DataLoader(train_dataset, batch_size=64, shuffle=True, collate_fn=collate_fn)\n",
    "val_loader = DataLoader(test_dataset, batch_size=64, shuffle=False, collate_fn=collate_fn)\n",
    "\n",
    "# Настройка модели\n",
    "device = torch.device(\"cpu\")  # Или \"cuda\", если у вас есть доступ к GPU\n",
    "\n",
    "model.to(device)\n",
    "\n",
    "# Используем MSELoss (для задачи регрессии)\n",
    "criterion = nn.MSELoss()  # Для регрессии\n",
    "optimizer = torch.optim.Adam(model.parameters(), lr=1e-3)\n",
    "\n",
    "# Обучение\n",
    "model.train()\n",
    "train_losses = []\n",
    "val_losses = []\n",
    "val_metrics = []\n",
    "\n",
    "print(f\"{'Эпоха':<5} {'Train Loss':<10} {'Val Loss':<10} {'MAE':<7} {'MSE':<7} {'R2':<7} {'Время':<6}\")\n",
    "print(\"-\" * 70)\n",
    "\n",
    "for epoch in range(15):\n",
    "    start_time = time.time()\n",
    "    \n",
    "    # --- Обучение ---\n",
    "    model.train()\n",
    "    train_loss = 0.0\n",
    "    for batch in train_loader:\n",
    "        batch = {k: v.to(device) for k, v in batch.items()}\n",
    "        optimizer.zero_grad()\n",
    "        outputs = model(batch)\n",
    "        loss = criterion(outputs, batch[\"target\"])\n",
    "        loss.backward()\n",
    "        optimizer.step()\n",
    "        train_loss += loss.item()\n",
    "    \n",
    "    avg_train_loss = train_loss / len(train_loader)\n",
    "    \n",
    "    # --- Валидация ---\n",
    "    model.eval()\n",
    "    val_loss = 0.0\n",
    "    all_preds, all_targets = [], []\n",
    "    \n",
    "    with torch.no_grad():\n",
    "        for batch in val_loader:\n",
    "            batch = {k: v.to(device) for k, v in batch.items()}\n",
    "            outputs = model(batch)\n",
    "            loss = criterion(outputs, batch[\"target\"])\n",
    "            val_loss += loss.item()\n",
    "            \n",
    "            # Собираем предсказания и реальные значения\n",
    "            all_preds.extend(outputs.cpu().numpy())\n",
    "            all_targets.extend(batch[\"target\"].cpu().numpy())\n",
    "    \n",
    "    avg_val_loss = val_loss / len(val_loader)\n",
    "    \n",
    "    # Метрики для регрессии\n",
    "    mae = mean_absolute_error(all_targets, all_preds)\n",
    "    mse = mean_squared_error(all_targets, all_preds)\n",
    "    r2 = r2_score(all_targets, all_preds)\n",
    "    \n",
    "    # Сохраняем метрики\n",
    "    train_losses.append(avg_train_loss)\n",
    "    val_losses.append(avg_val_loss)\n",
    "    val_metrics.append({'mae': mae, 'mse': mse, 'r2': r2})\n",
    "    \n",
    "    # Вывод информации по эпохам\n",
    "    epoch_time = time.time() - start_time\n",
    "    print(f\"{epoch+1:<5} {avg_train_loss:<10.4f} {avg_val_loss:<10.4f} \"\n",
    "          f\"{mae:<7.4f} {mse:<7.4f} {r2:<7.4f} {epoch_time:<6.1f}s\")\n",
    "\n",
    "# Сохранение модели\n",
    "torch.save(model.state_dict(), \"student_transformer.pth\")\n",
    "print(\"\\n✅ Модель сохранена\")\n"
   ]
  },
  {
   "cell_type": "code",
   "execution_count": 9,
   "id": "fa407919",
   "metadata": {},
   "outputs": [
    {
     "name": "stdout",
     "output_type": "stream",
     "text": [
      "✅ Загружено 54540 последовательностей (test)\n",
      "Mean Absolute Error (MAE): 0.3174\n",
      "Mean Squared Error (MSE): 0.2430\n",
      "R2 Score: 0.4677\n"
     ]
    }
   ],
   "source": [
    "import torch\n",
    "import numpy as np\n",
    "from sklearn.metrics import mean_absolute_error, mean_squared_error, r2_score\n",
    "\n",
    "# Загрузка тестовых данных\n",
    "test_dataset = StudentPerformanceDataset(split=\"test\")\n",
    "test_loader = DataLoader(test_dataset, batch_size=64, shuffle=False, collate_fn=collate_fn)\n",
    "\n",
    "# Оценка\n",
    "model.eval()\n",
    "all_preds = []\n",
    "all_targets = []\n",
    "\n",
    "with torch.no_grad():\n",
    "    for batch in test_loader:\n",
    "        batch = {k: v.to(device) for k, v in batch.items()}\n",
    "        outputs = model(batch)\n",
    "        all_preds.extend(outputs.cpu().numpy())\n",
    "        all_targets.extend(batch[\"target\"].cpu().numpy())\n",
    "\n",
    "# Метрики для регрессии\n",
    "mae = mean_absolute_error(all_targets, all_preds)  # Средняя абсолютная ошибка\n",
    "mse = mean_squared_error(all_targets, all_preds)  # Среднеквадратичная ошибка\n",
    "r2 = r2_score(all_targets, all_preds)  # Коэффициент детерминации\n",
    "\n",
    "# Вывод метрик\n",
    "print(f\"Mean Absolute Error (MAE): {mae:.4f}\")\n",
    "print(f\"Mean Squared Error (MSE): {mse:.4f}\")\n",
    "print(f\"R2 Score: {r2:.4f}\")"
   ]
  },
  {
   "cell_type": "code",
   "execution_count": 10,
   "id": "139c747a",
   "metadata": {},
   "outputs": [
    {
     "data": {
      "image/png": "[encoded data removed]",
      "text/plain": [
       "<Figure size 640x480 with 1 Axes>"
      ]
     },
     "metadata": {},
     "output_type": "display_data"
    }
   ],
   "source": [
    "plt.plot(train_losses, label=\"Train Loss\", marker='o')\n",
    "plt.plot(val_losses, label=\"Validation Loss\", marker='x')\n",
    "plt.title(\"Train and Validation Loss\")\n",
    "plt.xlabel(\"Epoch\")\n",
    "plt.ylabel(\"Loss\")\n",
    "plt.legend()  # Легенда, чтобы отличать train и validation\n",
    "plt.grid(True)\n",
    "plt.show()"
   ]
  },
  {
   "cell_type": "code",
   "execution_count": 13,
   "id": "dd7c6c69",
   "metadata": {},
   "outputs": [
    {
     "name": "stderr",
     "output_type": "stream",
     "text": [
      "C:\\Users\\Stasy\\AppData\\Local\\Temp\\ipykernel_27592\\1901443381.py:35: UserWarning: Creating a tensor from a list of numpy.ndarrays is extremely slow. Please consider converting the list to a single numpy.ndarray with numpy.array() before converting to a tensor. (Triggered internally at C:\\actions-runner\\_work\\pytorch\\pytorch\\pytorch\\torch\\csrc\\utils\\tensor_new.cpp:257.)\n",
      "  \"numeric\": torch.tensor([numeric])                # [1, 8, 3] - оценки, посещаемость, кружки\n"
     ]
    },
    {
     "ename": "RuntimeError",
     "evalue": "mat1 and mat2 shapes cannot be multiplied (8x3 and 2x64)",
     "output_type": "error",
     "traceback": [
      "\u001b[31m---------------------------------------------------------------------------\u001b[39m",
      "\u001b[31mRuntimeError\u001b[39m                              Traceback (most recent call last)",
      "\u001b[36mCell\u001b[39m\u001b[36m \u001b[39m\u001b[32mIn[13]\u001b[39m\u001b[32m, line 40\u001b[39m\n\u001b[32m     38\u001b[39m \u001b[38;5;66;03m# Предсказание\u001b[39;00m\n\u001b[32m     39\u001b[39m \u001b[38;5;28;01mwith\u001b[39;00m torch.no_grad():\n\u001b[32m---> \u001b[39m\u001b[32m40\u001b[39m     prob = \u001b[43mmodel\u001b[49m\u001b[43m(\u001b[49m\u001b[43m{\u001b[49m\u001b[43mk\u001b[49m\u001b[43m:\u001b[49m\u001b[43m \u001b[49m\u001b[43mv\u001b[49m\u001b[43m.\u001b[49m\u001b[43mto\u001b[49m\u001b[43m(\u001b[49m\u001b[43mdevice\u001b[49m\u001b[43m)\u001b[49m\u001b[43m \u001b[49m\u001b[38;5;28;43;01mfor\u001b[39;49;00m\u001b[43m \u001b[49m\u001b[43mk\u001b[49m\u001b[43m,\u001b[49m\u001b[43m \u001b[49m\u001b[43mv\u001b[49m\u001b[43m \u001b[49m\u001b[38;5;129;43;01min\u001b[39;49;00m\u001b[43m \u001b[49m\u001b[43mbatch\u001b[49m\u001b[43m.\u001b[49m\u001b[43mitems\u001b[49m\u001b[43m(\u001b[49m\u001b[43m)\u001b[49m\u001b[43m}\u001b[49m\u001b[43m)\u001b[49m.item()\n\u001b[32m     42\u001b[39m \u001b[38;5;66;03m# Вывод\u001b[39;00m\n\u001b[32m     43\u001b[39m \u001b[38;5;28mprint\u001b[39m(\u001b[33mf\u001b[39m\u001b[33m\"\u001b[39m\u001b[33m🎓 Прогноз для ученика по предмету \u001b[39m\u001b[33m'\u001b[39m\u001b[38;5;132;01m{\u001b[39;00mexample_data[\u001b[33m'\u001b[39m\u001b[33msubject\u001b[39m\u001b[33m'\u001b[39m]\u001b[38;5;132;01m}\u001b[39;00m\u001b[33m'\u001b[39m\u001b[33m:\u001b[39m\u001b[33m\"\u001b[39m)\n",
      "\u001b[36mFile \u001b[39m\u001b[32mc:\\Users\\Stasy\\Desktop\\учёба\\practice\\venv\\Lib\\site-packages\\torch\\nn\\modules\\module.py:1739\u001b[39m, in \u001b[36mModule._wrapped_call_impl\u001b[39m\u001b[34m(self, *args, **kwargs)\u001b[39m\n\u001b[32m   1737\u001b[39m     \u001b[38;5;28;01mreturn\u001b[39;00m \u001b[38;5;28mself\u001b[39m._compiled_call_impl(*args, **kwargs)  \u001b[38;5;66;03m# type: ignore[misc]\u001b[39;00m\n\u001b[32m   1738\u001b[39m \u001b[38;5;28;01melse\u001b[39;00m:\n\u001b[32m-> \u001b[39m\u001b[32m1739\u001b[39m     \u001b[38;5;28;01mreturn\u001b[39;00m \u001b[38;5;28;43mself\u001b[39;49m\u001b[43m.\u001b[49m\u001b[43m_call_impl\u001b[49m\u001b[43m(\u001b[49m\u001b[43m*\u001b[49m\u001b[43margs\u001b[49m\u001b[43m,\u001b[49m\u001b[43m \u001b[49m\u001b[43m*\u001b[49m\u001b[43m*\u001b[49m\u001b[43mkwargs\u001b[49m\u001b[43m)\u001b[49m\n",
      "\u001b[36mFile \u001b[39m\u001b[32mc:\\Users\\Stasy\\Desktop\\учёба\\practice\\venv\\Lib\\site-packages\\torch\\nn\\modules\\module.py:1750\u001b[39m, in \u001b[36mModule._call_impl\u001b[39m\u001b[34m(self, *args, **kwargs)\u001b[39m\n\u001b[32m   1745\u001b[39m \u001b[38;5;66;03m# If we don't have any hooks, we want to skip the rest of the logic in\u001b[39;00m\n\u001b[32m   1746\u001b[39m \u001b[38;5;66;03m# this function, and just call forward.\u001b[39;00m\n\u001b[32m   1747\u001b[39m \u001b[38;5;28;01mif\u001b[39;00m \u001b[38;5;129;01mnot\u001b[39;00m (\u001b[38;5;28mself\u001b[39m._backward_hooks \u001b[38;5;129;01mor\u001b[39;00m \u001b[38;5;28mself\u001b[39m._backward_pre_hooks \u001b[38;5;129;01mor\u001b[39;00m \u001b[38;5;28mself\u001b[39m._forward_hooks \u001b[38;5;129;01mor\u001b[39;00m \u001b[38;5;28mself\u001b[39m._forward_pre_hooks\n\u001b[32m   1748\u001b[39m         \u001b[38;5;129;01mor\u001b[39;00m _global_backward_pre_hooks \u001b[38;5;129;01mor\u001b[39;00m _global_backward_hooks\n\u001b[32m   1749\u001b[39m         \u001b[38;5;129;01mor\u001b[39;00m _global_forward_hooks \u001b[38;5;129;01mor\u001b[39;00m _global_forward_pre_hooks):\n\u001b[32m-> \u001b[39m\u001b[32m1750\u001b[39m     \u001b[38;5;28;01mreturn\u001b[39;00m \u001b[43mforward_call\u001b[49m\u001b[43m(\u001b[49m\u001b[43m*\u001b[49m\u001b[43margs\u001b[49m\u001b[43m,\u001b[49m\u001b[43m \u001b[49m\u001b[43m*\u001b[49m\u001b[43m*\u001b[49m\u001b[43mkwargs\u001b[49m\u001b[43m)\u001b[49m\n\u001b[32m   1752\u001b[39m result = \u001b[38;5;28;01mNone\u001b[39;00m\n\u001b[32m   1753\u001b[39m called_always_called_hooks = \u001b[38;5;28mset\u001b[39m()\n",
      "\u001b[36mFile \u001b[39m\u001b[32mc:\\Users\\Stasy\\Desktop\\учёба\\practice\\student_transformer.py:66\u001b[39m, in \u001b[36mStudentTransformer.forward\u001b[39m\u001b[34m(self, x)\u001b[39m\n\u001b[32m     60\u001b[39m \u001b[38;5;28;01mdef\u001b[39;00m\u001b[38;5;250m \u001b[39m\u001b[34mforward\u001b[39m(\u001b[38;5;28mself\u001b[39m, x):\n\u001b[32m     61\u001b[39m     B, L = x[\u001b[33m\"\u001b[39m\u001b[33msubject\u001b[39m\u001b[33m\"\u001b[39m].shape\n\u001b[32m     62\u001b[39m     emb = (\n\u001b[32m     63\u001b[39m         \u001b[38;5;28mself\u001b[39m.subject_embed(x[\u001b[33m\"\u001b[39m\u001b[33msubject\u001b[39m\u001b[33m\"\u001b[39m]) +\n\u001b[32m     64\u001b[39m         \u001b[38;5;28mself\u001b[39m.absence_embed(x[\u001b[33m\"\u001b[39m\u001b[33mabsence\u001b[39m\u001b[33m\"\u001b[39m]) +\n\u001b[32m     65\u001b[39m         \u001b[38;5;28mself\u001b[39m.club_embed(x[\u001b[33m\"\u001b[39m\u001b[33mclub\u001b[39m\u001b[33m\"\u001b[39m]) +\n\u001b[32m---> \u001b[39m\u001b[32m66\u001b[39m         \u001b[38;5;28mself\u001b[39m.norm_numeric(\u001b[38;5;28;43mself\u001b[39;49m\u001b[43m.\u001b[49m\u001b[43mnumeric_proj\u001b[49m\u001b[43m(\u001b[49m\u001b[43mx\u001b[49m\u001b[43m[\u001b[49m\u001b[33;43m\"\u001b[39;49m\u001b[33;43mnumeric\u001b[39;49m\u001b[33;43m\"\u001b[39;49m\u001b[43m]\u001b[49m\u001b[43m)\u001b[49m)\n\u001b[32m     67\u001b[39m     )\n\u001b[32m     68\u001b[39m     emb = emb + \u001b[38;5;28mself\u001b[39m.pos_encoding[:, :L, :].to(emb.device)\n\u001b[32m     69\u001b[39m     out = \u001b[38;5;28mself\u001b[39m.transformer(emb)\n",
      "\u001b[36mFile \u001b[39m\u001b[32mc:\\Users\\Stasy\\Desktop\\учёба\\practice\\venv\\Lib\\site-packages\\torch\\nn\\modules\\module.py:1739\u001b[39m, in \u001b[36mModule._wrapped_call_impl\u001b[39m\u001b[34m(self, *args, **kwargs)\u001b[39m\n\u001b[32m   1737\u001b[39m     \u001b[38;5;28;01mreturn\u001b[39;00m \u001b[38;5;28mself\u001b[39m._compiled_call_impl(*args, **kwargs)  \u001b[38;5;66;03m# type: ignore[misc]\u001b[39;00m\n\u001b[32m   1738\u001b[39m \u001b[38;5;28;01melse\u001b[39;00m:\n\u001b[32m-> \u001b[39m\u001b[32m1739\u001b[39m     \u001b[38;5;28;01mreturn\u001b[39;00m \u001b[38;5;28;43mself\u001b[39;49m\u001b[43m.\u001b[49m\u001b[43m_call_impl\u001b[49m\u001b[43m(\u001b[49m\u001b[43m*\u001b[49m\u001b[43margs\u001b[49m\u001b[43m,\u001b[49m\u001b[43m \u001b[49m\u001b[43m*\u001b[49m\u001b[43m*\u001b[49m\u001b[43mkwargs\u001b[49m\u001b[43m)\u001b[49m\n",
      "\u001b[36mFile \u001b[39m\u001b[32mc:\\Users\\Stasy\\Desktop\\учёба\\practice\\venv\\Lib\\site-packages\\torch\\nn\\modules\\module.py:1750\u001b[39m, in \u001b[36mModule._call_impl\u001b[39m\u001b[34m(self, *args, **kwargs)\u001b[39m\n\u001b[32m   1745\u001b[39m \u001b[38;5;66;03m# If we don't have any hooks, we want to skip the rest of the logic in\u001b[39;00m\n\u001b[32m   1746\u001b[39m \u001b[38;5;66;03m# this function, and just call forward.\u001b[39;00m\n\u001b[32m   1747\u001b[39m \u001b[38;5;28;01mif\u001b[39;00m \u001b[38;5;129;01mnot\u001b[39;00m (\u001b[38;5;28mself\u001b[39m._backward_hooks \u001b[38;5;129;01mor\u001b[39;00m \u001b[38;5;28mself\u001b[39m._backward_pre_hooks \u001b[38;5;129;01mor\u001b[39;00m \u001b[38;5;28mself\u001b[39m._forward_hooks \u001b[38;5;129;01mor\u001b[39;00m \u001b[38;5;28mself\u001b[39m._forward_pre_hooks\n\u001b[32m   1748\u001b[39m         \u001b[38;5;129;01mor\u001b[39;00m _global_backward_pre_hooks \u001b[38;5;129;01mor\u001b[39;00m _global_backward_hooks\n\u001b[32m   1749\u001b[39m         \u001b[38;5;129;01mor\u001b[39;00m _global_forward_hooks \u001b[38;5;129;01mor\u001b[39;00m _global_forward_pre_hooks):\n\u001b[32m-> \u001b[39m\u001b[32m1750\u001b[39m     \u001b[38;5;28;01mreturn\u001b[39;00m \u001b[43mforward_call\u001b[49m\u001b[43m(\u001b[49m\u001b[43m*\u001b[49m\u001b[43margs\u001b[49m\u001b[43m,\u001b[49m\u001b[43m \u001b[49m\u001b[43m*\u001b[49m\u001b[43m*\u001b[49m\u001b[43mkwargs\u001b[49m\u001b[43m)\u001b[49m\n\u001b[32m   1752\u001b[39m result = \u001b[38;5;28;01mNone\u001b[39;00m\n\u001b[32m   1753\u001b[39m called_always_called_hooks = \u001b[38;5;28mset\u001b[39m()\n",
      "\u001b[36mFile \u001b[39m\u001b[32mc:\\Users\\Stasy\\Desktop\\учёба\\practice\\venv\\Lib\\site-packages\\torch\\nn\\modules\\linear.py:125\u001b[39m, in \u001b[36mLinear.forward\u001b[39m\u001b[34m(self, input)\u001b[39m\n\u001b[32m    124\u001b[39m \u001b[38;5;28;01mdef\u001b[39;00m\u001b[38;5;250m \u001b[39m\u001b[34mforward\u001b[39m(\u001b[38;5;28mself\u001b[39m, \u001b[38;5;28minput\u001b[39m: Tensor) -> Tensor:\n\u001b[32m--> \u001b[39m\u001b[32m125\u001b[39m     \u001b[38;5;28;01mreturn\u001b[39;00m \u001b[43mF\u001b[49m\u001b[43m.\u001b[49m\u001b[43mlinear\u001b[49m\u001b[43m(\u001b[49m\u001b[38;5;28;43minput\u001b[39;49m\u001b[43m,\u001b[49m\u001b[43m \u001b[49m\u001b[38;5;28;43mself\u001b[39;49m\u001b[43m.\u001b[49m\u001b[43mweight\u001b[49m\u001b[43m,\u001b[49m\u001b[43m \u001b[49m\u001b[38;5;28;43mself\u001b[39;49m\u001b[43m.\u001b[49m\u001b[43mbias\u001b[49m\u001b[43m)\u001b[49m\n",
      "\u001b[31mRuntimeError\u001b[39m: mat1 and mat2 shapes cannot be multiplied (8x3 and 2x64)"
     ]
    }
   ],
   "source": [
    "# === Ячейка: Пример предсказания (инференс) ===\n",
    "\n",
    "# 1. Загрузим сохранённую модель\n",
    "model.load_state_dict(torch.load(\"student_transformer.pth\", map_location=device))\n",
    "model.eval()\n",
    "\n",
    "# 2. Подготовим пример данных (8 недель по математике)\n",
    "# Формат: [неделя 1, неделя 2, ..., неделя 8]\n",
    "example_data = {\n",
    "    \"subject\": \"literature\",\n",
    "    \"grades\": [4.5, 4.0, 4.0, 3.5, 3.0, 3.0, 2.5, 3.0],        # оценки падают\n",
    "    \"attendance\": [1, 1, 1, 0, 0, 1, 1, 1],                      # пропуски на 4-5 неделях\n",
    "    \"club_attended\": [1, 1, 0, 0, 0, 0, 0, 0],                   # перестал ходить в кружок\n",
    "    \"absence_reasons\": [None, None, None, \"illness\", \"illness\", None, None, None]\n",
    "}\n",
    "\n",
    "# 3. Преобразуем в формат модели\n",
    "SUBJECT_TO_ID = {\"math\":0, \"russian\":1, \"physics\":2, \"literature\":3, \"biology\":4}\n",
    "REASON_TO_ID = {None:0, \"illness\":1, \"competition\":2, \"family\":3, \"other\":4, \"camp\":5}\n",
    "\n",
    "# Преобразование данных для модели\n",
    "subject_id = SUBJECT_TO_ID[example_data[\"subject\"]]\n",
    "absence_ids = [REASON_TO_ID.get(r, 4) for r in example_data[\"absence_reasons\"]]\n",
    "numeric = np.stack([\n",
    "    example_data[\"grades\"],\n",
    "    example_data[\"attendance\"],\n",
    "    example_data[\"club_attended\"]\n",
    "], axis=1).astype(np.float32)\n",
    "\n",
    "# Создаём батч из одного примера\n",
    "batch = {\n",
    "    \"subject\": torch.tensor([[subject_id] * 8]),      # [1, 8] - данные для 8 недель\n",
    "    \"absence\": torch.tensor([absence_ids]),           # [1, 8]\n",
    "    \"club\": torch.tensor([example_data[\"club_attended\"]]),  # [1, 8]\n",
    "    \"numeric\": torch.tensor([numeric])                # [1, 8, 3] - оценки, посещаемость, кружки\n",
    "}\n",
    "\n",
    "# Предсказание\n",
    "with torch.no_grad():\n",
    "    prob = model({k: v.to(device) for k, v in batch.items()}).item()\n",
    "\n",
    "# Вывод\n",
    "print(f\"🎓 Прогноз для ученика по предмету '{example_data['subject']}':\")\n",
    "print(f\"   Вероятность снижения успеваемости: {prob:.2%}\")\n",
    "if prob > 0.5:\n",
    "    print(\"   ⚠️ Рекомендуется педагогическое вмешательство!\")\n",
    "else:\n",
    "    print(\"   ✅ Риск низкий.\")"
   ]
  }
 ],
 "metadata": {
  "kernelspec": {
   "display_name": "venv",
   "language": "python",
   "name": "python3"
  },
  "language_info": {
   "codemirror_mode": {
    "name": "ipython",
    "version": 3
   },
   "file_extension": ".py",
   "mimetype": "text/x-python",
   "name": "python",
   "nbconvert_exporter": "python",
   "pygments_lexer": "ipython3",
   "version": "3.13.0"
  }
 },
 "nbformat": 4,
 "nbformat_minor": 5
}
