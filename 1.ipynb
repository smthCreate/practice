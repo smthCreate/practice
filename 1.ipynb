{
 "cells": [
  {
   "cell_type": "code",
   "execution_count": 18,
   "id": "346faede",
   "metadata": {},
   "outputs": [
    {
     "name": "stdout",
     "output_type": "stream",
     "text": [
      "Используем устройство: cuda\n"
     ]
    }
   ],
   "source": [
    "# Импорты\n",
    "import torch\n",
    "import torch.nn as nn\n",
    "import sqlite3\n",
    "import pandas as pd\n",
    "import numpy as np\n",
    "from sklearn.metrics import accuracy_score, f1_score, roc_auc_score\n",
    "import matplotlib.pyplot as plt\n",
    "\n",
    "# Константы\n",
    "SEQ_LEN = 8\n",
    "DEVICE = torch.device(\"cuda\" if torch.cuda.is_available() else \"cpu\")\n",
    "print(f\"Используем устройство: {DEVICE}\")"
   ]
  },
  {
   "cell_type": "code",
   "execution_count": 19,
   "id": "9110cee8",
   "metadata": {},
   "outputs": [
    {
     "name": "stdout",
     "output_type": "stream",
     "text": [
      "✅ Загружено 300000 обучающих последовательностей\n",
      "Количество последовательностей: 300000\n",
      "Пример батча:\n",
      "subject.shape: torch.Size([64, 8])\n",
      "numeric.shape: torch.Size([64, 8, 3])\n",
      "target.shape: torch.Size([64])\n"
     ]
    }
   ],
   "source": [
    "dataset = StudentPerformanceDataset(db_path=\"school.db\", seq_len=8)\n",
    "dataloader = DataLoader(dataset, batch_size=64, shuffle=True, collate_fn=collate_fn)\n",
    "\n",
    "print(f\"Количество последовательностей: {len(dataset)}\")\n",
    "print(f\"Пример батча:\")\n",
    "for batch in dataloader:\n",
    "    print(\"subject.shape:\", batch[\"subject\"].shape)\n",
    "    print(\"numeric.shape:\", batch[\"numeric\"].shape)\n",
    "    print(\"target.shape:\", batch[\"target\"].shape)\n",
    "    break"
   ]
  },
  {
   "cell_type": "code",
   "execution_count": 11,
   "id": "f4783f31",
   "metadata": {},
   "outputs": [
    {
     "name": "stdout",
     "output_type": "stream",
     "text": [
      "✅ Модель создана\n",
      "Число параметров: 565633\n"
     ]
    }
   ],
   "source": [
    "model = StudentTransformer(\n",
    "    num_subjects=5,\n",
    "    num_absence_reasons=6,   # ← обязательно 6!\n",
    "    num_club_types=2,\n",
    "    numeric_features=3,\n",
    "    embed_dim=64,\n",
    "    num_heads=4,\n",
    "    num_layers=2,\n",
    "    pred_type=\"binary\"\n",
    ")\n",
    "\n",
    "print(\"✅ Модель создана\")\n",
    "print(\"Число параметров:\", sum(p.numel() for p in model.parameters()))"
   ]
  },
  {
   "cell_type": "code",
   "execution_count": 20,
   "id": "8c7c5808",
   "metadata": {},
   "outputs": [
    {
     "ename": "TypeError",
     "evalue": "StudentPerformanceDataset.__init__() got an unexpected keyword argument 'split'",
     "output_type": "error",
     "traceback": [
      "\u001b[31m---------------------------------------------------------------------------\u001b[39m",
      "\u001b[31mTypeError\u001b[39m                                 Traceback (most recent call last)",
      "\u001b[36mCell\u001b[39m\u001b[36m \u001b[39m\u001b[32mIn[20]\u001b[39m\u001b[32m, line 5\u001b[39m\n\u001b[32m      2\u001b[39m \u001b[38;5;28;01mfrom\u001b[39;00m\u001b[38;5;250m \u001b[39m\u001b[34;01mdata_loader\u001b[39;00m\u001b[38;5;250m \u001b[39m\u001b[38;5;28;01mimport\u001b[39;00m StudentPerformanceDataset, collate_fn\n\u001b[32m      3\u001b[39m \u001b[38;5;28;01mfrom\u001b[39;00m\u001b[38;5;250m \u001b[39m\u001b[34;01mtorch\u001b[39;00m\u001b[34;01m.\u001b[39;00m\u001b[34;01mutils\u001b[39;00m\u001b[34;01m.\u001b[39;00m\u001b[34;01mdata\u001b[39;00m\u001b[38;5;250m \u001b[39m\u001b[38;5;28;01mimport\u001b[39;00m DataLoader\n\u001b[32m----> \u001b[39m\u001b[32m5\u001b[39m train_dataset = \u001b[43mStudentPerformanceDataset\u001b[49m\u001b[43m(\u001b[49m\u001b[43msplit\u001b[49m\u001b[43m=\u001b[49m\u001b[33;43m\"\u001b[39;49m\u001b[33;43mtrain\u001b[39;49m\u001b[33;43m\"\u001b[39;49m\u001b[43m)\u001b[49m\n\u001b[32m      6\u001b[39m train_loader = DataLoader(train_dataset, batch_size=\u001b[32m64\u001b[39m, shuffle=\u001b[38;5;28;01mTrue\u001b[39;00m, collate_fn=collate_fn)\n\u001b[32m      8\u001b[39m \u001b[38;5;66;03m# Затем обучение\u001b[39;00m\n",
      "\u001b[31mTypeError\u001b[39m: StudentPerformanceDataset.__init__() got an unexpected keyword argument 'split'"
     ]
    }
   ],
   "source": [
    "# Сначала загрузи данные\n",
    "from data_loader import StudentPerformanceDataset, collate_fn\n",
    "from torch.utils.data import DataLoader\n",
    "\n",
    "train_dataset = StudentPerformanceDataset(split=\"train\")\n",
    "train_loader = DataLoader(train_dataset, batch_size=64, shuffle=True, collate_fn=collate_fn)\n",
    "\n",
    "# Затем обучение\n",
    "device = torch.device(\"cuda\" if torch.cuda.is_available() else \"cpu\")\n",
    "model.to(device)\n",
    "\n",
    "criterion = nn.BCELoss()\n",
    "optimizer = torch.optim.Adam(model.parameters(), lr=1e-3)\n",
    "\n",
    "model.train()\n",
    "losses = []\n",
    "\n",
    "for epoch in range(10):  # 10 эпох\n",
    "    epoch_loss = 0\n",
    "    for i, batch in enumerate(train_loader):  # ← Используем train_loader!\n",
    "        batch = {k: v.to(device) for k, v in batch.items()}\n",
    "        \n",
    "        optimizer.zero_grad()\n",
    "        outputs = model(batch)\n",
    "        loss = criterion(outputs, batch[\"target\"])\n",
    "        loss.backward()\n",
    "        optimizer.step()\n",
    "        \n",
    "        epoch_loss += loss.item()\n",
    "        if i % 50 == 0:\n",
    "            print(f\"Эпоха {epoch+1}, шаг {i}, loss: {loss.item():.4f}\")\n",
    "    \n",
    "    avg_loss = epoch_loss / len(train_loader)\n",
    "    losses.append(avg_loss)\n",
    "    print(f\"Средний loss за эпоху: {avg_loss:.4f}\")\n",
    "\n",
    "# Сохраняем модель\n",
    "torch.save(model.state_dict(), \"student_transformer.pth\")\n",
    "print(\"✅ Модель сохранена\")"
   ]
  },
  {
   "cell_type": "code",
   "execution_count": null,
   "id": "fa407919",
   "metadata": {},
   "outputs": [],
   "source": [
    "# Загрузка тестовых данных\n",
    "test_dataset = StudentPerformanceDataset(split=\"test\")\n",
    "test_loader = DataLoader(test_dataset, batch_size=64, shuffle=False, collate_fn=collate_fn)\n",
    "\n",
    "# Оценка\n",
    "model.eval()\n",
    "all_preds = []\n",
    "all_targets = []\n",
    "\n",
    "with torch.no_grad():\n",
    "    for batch in test_loader:\n",
    "        batch = {k: v.to(device) for k, v in batch.items()}\n",
    "        outputs = model(batch)\n",
    "        all_preds.extend(outputs.cpu().numpy())\n",
    "        all_targets.extend(batch[\"target\"].cpu().numpy())\n",
    "\n",
    "# Метрики\n",
    "preds_binary = (np.array(all_preds) > 0.5).astype(int)\n",
    "targets = np.array(all_targets)\n",
    "\n",
    "print(f\"Accuracy: {accuracy_score(targets, preds_binary):.4f}\")\n",
    "print(f\"F1-score: {f1_score(targets, preds_binary):.4f}\")\n",
    "print(f\"AUC-ROC:  {roc_auc_score(targets, all_preds):.4f}\")"
   ]
  },
  {
   "cell_type": "code",
   "execution_count": 16,
   "id": "139c747a",
   "metadata": {},
   "outputs": [
    {
     "data": {
      "image/png": "[encoded data removed]",
      "text/plain": [
       "<Figure size 640x480 with 1 Axes>"
      ]
     },
     "metadata": {},
     "output_type": "display_data"
    }
   ],
   "source": [
    "plt.plot(losses, marker='o')  # ← добавили маркер\n",
    "plt.title(\"Training Loss\")\n",
    "plt.xlabel(\"Epoch\")\n",
    "plt.ylabel(\"Loss\")\n",
    "plt.grid(True)\n",
    "plt.show()"
   ]
  },
  {
   "cell_type": "code",
   "execution_count": null,
   "id": "dd7c6c69",
   "metadata": {},
   "outputs": [],
   "source": [
    "# === Ячейка: Пример предсказания (инференс) ===\n",
    "\n",
    "# 1. Загрузим сохранённую модель\n",
    "model.load_state_dict(torch.load(\"student_transformer.pth\", map_location=device))\n",
    "model.eval()\n",
    "\n",
    "# 2. Подготовим пример данных (8 недель по математике)\n",
    "# Формат: [неделя 1, неделя 2, ..., неделя 8]\n",
    "example_data = {\n",
    "    \"subject\": \"math\",\n",
    "    \"grades\": [4.5, 4.0, 4.0, 3.5, 3.0, 3.0, 2.5, 3.0],        # оценки падают\n",
    "    \"attendance\": [1, 1, 1, 0, 0, 1, 1, 1],                      # пропуски на 4-5 неделях\n",
    "    \"club_attended\": [1, 1, 0, 0, 0, 0, 0, 0],                   # перестал ходить в кружок\n",
    "    \"absence_reasons\": [None, None, None, \"illness\", \"illness\", None, None, None]\n",
    "}\n",
    "\n",
    "# 3. Преобразуем в формат модели\n",
    "SUBJECT_TO_ID = {\"math\":0, \"russian\":1, \"physics\":2, \"literature\":3, \"biology\":4}\n",
    "REASON_TO_ID = {None:0, \"illness\":1, \"competition\":2, \"family\":3, \"other\":4, \"camp\":5}\n",
    "\n",
    "subject_id = SUBJECT_TO_ID[example_data[\"subject\"]]\n",
    "absence_ids = [REASON_TO_ID.get(r, 4) for r in example_data[\"absence_reasons\"]]\n",
    "numeric = np.stack([\n",
    "    example_data[\"grades\"],\n",
    "    example_data[\"attendance\"],\n",
    "    example_data[\"club_attended\"]\n",
    "], axis=1).astype(np.float32)\n",
    "\n",
    "# Создаём батч из одного примера\n",
    "batch = {\n",
    "    \"subject\": torch.tensor([[subject_id] * 8]),      # [1, 8]\n",
    "    \"absence\": torch.tensor([absence_ids]),           # [1, 8]\n",
    "    \"club\": torch.tensor([example_data[\"club_attended\"]]),  # [1, 8]\n",
    "    \"numeric\": torch.tensor([numeric])                # [1, 8, 3]\n",
    "}\n",
    "\n",
    "# 4. Предсказание\n",
    "with torch.no_grad():\n",
    "    prob = model({k: v.to(device) for k, v in batch.items()}).item()\n",
    "\n",
    "# 5. Вывод\n",
    "print(f\"🎓 Прогноз для ученика по предмету '{example_data['subject']}':\")\n",
    "print(f\"   Вероятность снижения успеваемости: {prob:.2%}\")\n",
    "if prob > 0.5:\n",
    "    print(\"   ⚠️  Рекомендуется педагогическое вмешательство!\")\n",
    "else:\n",
    "    print(\"   ✅ Риск низкий.\")"
   ]
  }
 ],
 "metadata": {
  "kernelspec": {
   "display_name": "venv",
   "language": "python",
   "name": "python3"
  },
  "language_info": {
   "codemirror_mode": {
    "name": "ipython",
    "version": 3
   },
   "file_extension": ".py",
   "mimetype": "text/x-python",
   "name": "python",
   "nbconvert_exporter": "python",
   "pygments_lexer": "ipython3",
   "version": "3.13.0"
  }
 },
 "nbformat": 4,
 "nbformat_minor": 5
}
